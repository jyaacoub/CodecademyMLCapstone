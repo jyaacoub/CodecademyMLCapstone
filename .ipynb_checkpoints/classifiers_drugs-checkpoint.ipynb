{
 "cells": [
  {
   "cell_type": "code",
   "execution_count": 1,
   "metadata": {},
   "outputs": [],
   "source": [
    "import pandas as pd\n",
    "import numpy as np\n",
    "from matplotlib import pyplot as plt\n",
    "\n",
    "from scipy import stats\n",
    "from sklearn.model_selection import train_test_split\n",
    "from sklearn import preprocessing  # For normalizing the data\n",
    "\n",
    "# Classification imports required\n",
    "from sklearn.neighbors import KNeighborsClassifier\n",
    "from sklearn.svm import SVC\n",
    "\n",
    "from sklearn.feature_extraction.text import CountVectorizer\n",
    "from sklearn.naive_bayes import MultinomialNB\n",
    "\n",
    "# Regression imports required\n",
    "from sklearn.linear_model import LinearRegression\n",
    "from sklearn.neighbors import KNeighborsRegressor"
   ]
  },
  {
   "cell_type": "markdown",
   "metadata": {},
   "source": [
    "# QUESTION: \n",
    "*Can we build an accurate enough classifier to determine whether or not a person does drugs depending on the following \n",
    "data: 'age', 'sex_i', 'drinks','smokes'?*\n",
    "\n",
    "## Classifiers used: \n",
    "* K-Nearest Neighbor\n",
    "* Support Vector Machine\n",
    "* Naive Bayes (features are countvectors of the essay portion of the data)\n",
    "\n",
    "### Getting the data:"
   ]
  },
  {
   "cell_type": "markdown",
   "metadata": {},
   "source": [
    "Imports needed"
   ]
  },
  {
   "cell_type": "code",
   "execution_count": null,
   "metadata": {},
   "outputs": [],
   "source": []
  },
  {
   "cell_type": "markdown",
   "metadata": {},
   "source": [
    "### Cleaning up the rows and creating meaningful columns\n",
    "To drop specific rows representing na for income: `df = df[df.income != -1]`\n",
    "    "
   ]
  },
  {
   "cell_type": "code",
   "execution_count": 2,
   "metadata": {},
   "outputs": [
    {
     "name": "stdout",
     "output_type": "stream",
     "text": [
      "\n",
      "After\n",
      "age       False\n",
      "drugs     False\n",
      "sex       False\n",
      "drinks    False\n",
      "smokes    False\n",
      "dtype: bool\n"
     ]
    }
   ],
   "source": [
    "df = pd.read_csv('profiles.csv')\n",
    "df.dropna(subset=['age', 'drugs', 'sex', 'drinks', 'smokes'], inplace=True)\n",
    "print(\"\\nAfter\\n\" + str(df[['age', 'drugs', 'sex', 'drinks', 'smokes']].isna().any()))  # success!"
   ]
  },
  {
   "cell_type": "markdown",
   "metadata": {},
   "source": [
    "### Creating meaningful columns/ mapping the data\n",
    "    For mapping specific groups we can use df.apply() as so:\n",
    "        df['does_drugs'] = df.apply(lambda row: 1 if (row.drugs == 'sometimes' or row.drugs == 'often') else 0, axis=1)\n",
    "        \n",
    "     Mapping this data I consider 'sometimes' and 'when drinking' to be the same in the case of smoking"
   ]
  },
  {
   "cell_type": "code",
   "execution_count": 23,
   "metadata": {},
   "outputs": [],
   "source": [
    "# Creating Meaningful columns\n",
    "df['sex_i'] = df.sex.map({'m': 0, 'f': 1})\n",
    "df['drinks_i'] = df.drinks.map({\"not at all\": 0, \"rarely\": 1, \"socially\": 2,\n",
    "                                \"often\": 3, \"very often\": 4, \"desperately\": 5})\n",
    "df['smokes_i'] = df.smokes.map({'no': 0, 'sometimes': 1, 'when drinking': 1,\n",
    "                                'trying to quit': 2, 'yes': 3})\n",
    "\n",
    "df['drugs_i'] = df.drugs.map({'never': 0, 'sometimes': 1, 'often': 2})"
   ]
  },
  {
   "cell_type": "code",
   "execution_count": 24,
   "metadata": {},
   "outputs": [
    {
     "name": "stdout",
     "output_type": "stream",
     "text": [
      "Label:\n",
      "0    34830\n",
      "2     7280\n",
      "1      385\n",
      "Name: drugs_i, dtype: int64\n",
      "\n",
      "\n",
      "Features:\n",
      "count    42495.000000\n",
      "mean        32.714037\n",
      "std          9.866243\n",
      "min         18.000000\n",
      "25%         26.000000\n",
      "50%         30.000000\n",
      "75%         37.000000\n",
      "max         69.000000\n",
      "Name: age, dtype: float64\n",
      "2    30131\n",
      "1     5106\n",
      "3     3636\n",
      "0     3017\n",
      "4      384\n",
      "5      221\n",
      "Name: drinks_i, dtype: int64\n",
      "0    34624\n",
      "1     5016\n",
      "3     1756\n",
      "2     1099\n",
      "Name: smokes_i, dtype: int64\n",
      "0    25062\n",
      "1    17433\n",
      "Name: sex_i, dtype: int64\n"
     ]
    }
   ],
   "source": [
    "# Printing out the counts\n",
    "print('Label:')\n",
    "print(df.drugs_i.value_counts())\n",
    "\n",
    "print('\\n\\nFeatures:')\n",
    "print(df.age.describe())\n",
    "print(df.drinks_i.value_counts())\n",
    "print(df.smokes_i.value_counts())\n",
    "print(df.sex_i.value_counts())"
   ]
  },
  {
   "cell_type": "markdown",
   "metadata": {},
   "source": [
    "### Normalizing the data\n",
    "Normalizing data is only important when there are huge gaps in magnitude between feature data. So in this case where all our data is categorical it isn't really necessary.\n",
    "We must normalize the data here because the age column is magnitude greater than the categorical data\n",
    "\n",
    "The syntax for extracting rows from ndarrays is\n",
    "    `A_NEW = A[start_index_row : stop_index_row,start_index_columnn : stop_index_column)]`"
   ]
  },
  {
   "cell_type": "code",
   "execution_count": 25,
   "metadata": {},
   "outputs": [
    {
     "name": "stdout",
     "output_type": "stream",
     "text": [
      "[[22  2  1  0]\n",
      " [35  3  0  0]] \n",
      "\n",
      "[[0.07843137 0.4        0.33333333 0.        ]\n",
      " [0.33333333 0.6        0.         0.        ]] \n",
      "\n",
      "        age  drinks_i  smokes_i  sex_i\n",
      "0  0.078431       0.4  0.333333    0.0\n",
      "1  0.333333       0.6  0.000000    0.0\n"
     ]
    }
   ],
   "source": [
    "feature_data = df[['age', 'drinks_i', 'smokes_i', 'sex_i']]\n",
    "\n",
    "x = feature_data.values\n",
    "print(x[0:2], '\\n')\n",
    "\n",
    "min_max_scaler = preprocessing.MinMaxScaler()\n",
    "x_scaled = min_max_scaler.fit_transform(x)\n",
    "print(x_scaled[0:2], '\\n')\n",
    "\n",
    "feature_data = pd.DataFrame(x_scaled, columns=feature_data.columns)\n",
    "print(feature_data.head(n=2))"
   ]
  },
  {
   "cell_type": "markdown",
   "metadata": {},
   "source": [
    "### Now we finally have our data ready for our training models.\n",
    "Now we will split the data:\n",
    "Allowed inputs are *lists, numpy arrays, scipy-sparse matrices* or *pandas dataframes.*"
   ]
  },
  {
   "cell_type": "raw",
   "metadata": {},
   "source": [
    "labels = df[['drugs_i']].values # returns a numpy representation of the dataframe (removes labels)\n",
    "print(labels.shape)\n",
    "print(labels)\n",
    "\n",
    "labels = labels.ravel()\n",
    "print(labels.shape)\n",
    "print(labels)"
   ]
  },
  {
   "cell_type": "code",
   "execution_count": 26,
   "metadata": {},
   "outputs": [],
   "source": [
    "train_data, test_data, train_labels, test_labels = train_test_split(feature_data, df.drugs_i,\n",
    "                                                                    train_size=0.8,\n",
    "                                                                    random_state=23)"
   ]
  },
  {
   "cell_type": "markdown",
   "metadata": {},
   "source": [
    "# K-Nearest Neighbors:\n",
    "\n",
    "I learned that the KNN doesnt perform well in this situation, because when we get a large enough **k value** it will \n",
    "just always guess the person doesn't do drugs because that is the majority.\n",
    "\n",
    "Or perhaps I just choose the worst features for this particular classification. \n",
    "\n",
    "Originally i was to classify them based on their `diet`, `age`, `income`, and `sex` ~75% accuracy\n",
    "\n",
    "Classifying based on `age`, `income`, `sex`, and `drinks` worked better ~77% \\n\n",
    "\n",
    "Getting rid of income worked a lot better ~81.2% accuracy \n",
    "    (this is because a lot of people don't display their income and so if we just got rid of it we have a lot \n",
    "    more training data to work with)\n",
    "\n",
    "Adding in `essay_len` doesn't improve the accuracy at all."
   ]
  },
  {
   "cell_type": "code",
   "execution_count": 7,
   "metadata": {},
   "outputs": [
    {
     "name": "stdout",
     "output_type": "stream",
     "text": [
      "1 2 3 4 5 6 7 8 9 10 "
     ]
    },
    {
     "data": {
      "image/png": "[encoded data removed]",
      "text/plain": [
       "<Figure size 432x288 with 1 Axes>"
      ]
     },
     "metadata": {
      "needs_background": "light"
     },
     "output_type": "display_data"
    }
   ],
   "source": [
    "score_test = []\n",
    "score_train = []\n",
    "k_values = list(range(1, 11, 1))\n",
    "for k in k_values:\n",
    "    print(k, end=' ')\n",
    "    model = KNeighborsClassifier(n_neighbors=k)\n",
    "    model.fit(train_data, train_labels)\n",
    "    score_train.append(model.score(train_data, train_labels))\n",
    "    score_test.append(model.score(test_data, test_labels))\n",
    "\n",
    "fig = plt.figure()\n",
    "ax = plt.subplot(111)\n",
    "# plt.rcParams['figure.figsize'] = (9, 9)\n",
    "ax.plot(k_values, score_test, label=\"test\")\n",
    "ax.plot(k_values, score_train, label='train', c='r')\n",
    "ax.legend(loc='upper center', bbox_to_anchor=(0.5, 1.10), ncol=2)\n",
    "plt.ylim(0.5, 1)\n",
    "# plt.axvline(10, 0, 1, c='g')\n",
    "plt.show()"
   ]
  },
  {
   "cell_type": "code",
   "execution_count": 8,
   "metadata": {},
   "outputs": [
    {
     "name": "stdout",
     "output_type": "stream",
     "text": [
      "TRAIN: 0.8299211671961407\n",
      "TEST: 0.8217437345570067\n"
     ]
    }
   ],
   "source": [
    "model = KNeighborsClassifier(n_neighbors=6)\n",
    "model.fit(train_data, train_labels)\n",
    "print('TRAIN:', model.score(train_data, train_labels))\n",
    "print('TEST:', model.score(test_data, test_labels))"
   ]
  },
  {
   "cell_type": "markdown",
   "metadata": {},
   "source": [
    "#### BEST RESULTS:\n",
    "    \n",
    "Accuracy of 82.2% under the following settings:\n",
    "    k = 6\n",
    "    training set: 'age', 'sex_i', 'drinks', 'smokes'\n",
    "    Label: 'drugs_i'\n",
    "\n",
    "Accuracy of ~99% when only considering people who do drugs often and everything else as 0.This is because very few \n",
    "people fall in this category so the classifier can just always assume that they aren't doing drugs and will end up with reasonable accuracy.\n",
    "\n",
    "We get an accuracy ~82.6% when only focusing on people who do drugs sometimes (this is because they are the majority out of the drug users so its very similar to our first result.\n",
    "\n",
    "When trying to predict sex with the same features we get a shitty accuracy of ~58.05%"
   ]
  },
  {
   "cell_type": "markdown",
   "metadata": {},
   "source": [
    "# Support Vector Machine\n",
    "\n",
    "With the default SVM the shape of the decision boundary is one vs the rest (ovr) so it can only classifiy something as \n",
    "is or isn't to change that we need to set the shape to one vs one (ovo).\n",
    "Surprisingly this didn't increase the accuracy significantly :(\n",
    "       https://scikit-learn.org/stable/modules/svm.html#multi-class-classification\n",
    "\n",
    "Drinking and smoking are highly correlated with whether or not someone does drugs or not.\n",
    "On default settings a *radial bias kernel* performed better that *poly, or linear*.\n",
    "\n",
    "Default value for gamma (float) is 1/n_features (determines how sensitive the model is to data).\n",
    "The C value (float) determines how much room for outliers we will allow (hard vs soft margins).\n",
    "\n",
    "    A C value of 0.82 performed the best with an accuracy of ~83.6%\n",
    "    Combined with a gamma of 2.45 ~83.61%\n",
    "\n",
    "    training set: 'age', 'sex_i', 'drinks', 'smokes'\n",
    "    Label: drugs_i\n",
    "\n",
    "When doing the same thing but with sex as the label I got an accuracy of ~58.05%"
   ]
  },
  {
   "cell_type": "code",
   "execution_count": 27,
   "metadata": {},
   "outputs": [
    {
     "name": "stdout",
     "output_type": "stream",
     "text": [
      "2\n",
      "(33996, 4)\n",
      "            age  drinks_i  smokes_i  sex_i\n",
      "34349  0.705882       0.2  0.000000    0.0\n",
      "14945  0.117647       0.4  1.000000    0.0\n",
      "7880   0.274510       0.4  0.333333    0.0\n",
      "9959   0.176471       0.4  0.000000    0.0\n",
      "(33996,)\n",
      "48467    0\n",
      "21210    2\n",
      "11169    2\n",
      "14144    0\n",
      "Name: drugs_i, dtype: int64\n"
     ]
    }
   ],
   "source": [
    "c = 0.82\n",
    "g = 2.45\n",
    "print(max(train_labels))\n",
    "print(train_data.shape)\n",
    "print(train_data.head(n=4))\n",
    "\n",
    "print(train_labels.shape)\n",
    "print(train_labels.head(n=4))\n"
   ]
  },
  {
   "cell_type": "code",
   "execution_count": 28,
   "metadata": {},
   "outputs": [
    {
     "name": "stdout",
     "output_type": "stream",
     "text": [
      "0.8310389457583245\n",
      "2\n"
     ]
    }
   ],
   "source": [
    "model = SVC(kernel='rbf', C=c, gamma=g, \n",
    "            decision_function_shape= 'ovo')\n",
    "model.fit(train_data, train_labels)\n",
    "score = model.score(test_data, test_labels)\n",
    "print(score)\n",
    "\n",
    "print(max(model.predict(test_data)))"
   ]
  },
  {
   "cell_type": "markdown",
   "metadata": {},
   "source": [
    "The model never once made a classification to say that an individual did drugs **often** this is why our results still seem to follow a OVR type SVM model"
   ]
  },
  {
   "cell_type": "code",
   "execution_count": 29,
   "metadata": {},
   "outputs": [
    {
     "name": "stdout",
     "output_type": "stream",
     "text": [
      "2\n",
      "Often:\n",
      "              age    drinks_i    smokes_i       sex_i\n",
      "count  432.000000  432.000000  432.000000  432.000000\n",
      "mean     0.169208    0.581944    0.720679    0.337963\n",
      "std      0.094224    0.145299    0.315721    0.473564\n",
      "min      0.000000    0.400000    0.333333    0.000000\n",
      "25%      0.098039    0.400000    0.333333    0.000000\n",
      "50%      0.156863    0.600000    1.000000    0.000000\n",
      "75%      0.215686    0.600000    1.000000    1.000000\n",
      "max      0.490196    1.000000    1.000000    1.000000\n",
      "\n",
      "Sometimes:\n",
      "       age  drinks_i  smokes_i  sex_i\n",
      "count  0.0       0.0       0.0    0.0\n",
      "mean   NaN       NaN       NaN    NaN\n",
      "std    NaN       NaN       NaN    NaN\n",
      "min    NaN       NaN       NaN    NaN\n",
      "25%    NaN       NaN       NaN    NaN\n",
      "50%    NaN       NaN       NaN    NaN\n",
      "75%    NaN       NaN       NaN    NaN\n",
      "max    NaN       NaN       NaN    NaN\n",
      "\n",
      "Never:\n",
      "               age     drinks_i     smokes_i        sex_i\n",
      "count  8067.000000  8067.000000  8067.000000  8067.000000\n",
      "mean      0.292735     0.360208     0.064336     0.427420\n",
      "std       0.193434     0.139775     0.180475     0.494735\n",
      "min       0.000000     0.000000     0.000000     0.000000\n",
      "25%       0.156863     0.400000     0.000000     0.000000\n",
      "50%       0.235294     0.400000     0.000000     0.000000\n",
      "75%       0.392157     0.400000     0.000000     1.000000\n",
      "max       1.000000     1.000000     1.000000     1.000000\n"
     ]
    }
   ],
   "source": [
    "prediction = model.predict(test_data)\n",
    "print(max(prediction))\n",
    "\n",
    "often = [i for i in range(len(prediction)) if prediction[i] == 2]\n",
    "sometimes = [i for i in range(len(prediction)) if prediction[i] == 1]\n",
    "never = [i for i in range(len(prediction)) if prediction[i] == 0]\n",
    "\n",
    "# pd.set_option('max_rows', 100)\n",
    "\n",
    "print(\"Often:\")\n",
    "print(test_data.iloc[often].describe())\n",
    "print(\"\\nSometimes:\")\n",
    "print(test_data.iloc[sometimes].describe())\n",
    "print(\"\\nNever:\")\n",
    "print(test_data.iloc[never].describe())"
   ]
  },
  {
   "cell_type": "markdown",
   "metadata": {},
   "source": [
    "**To create a plot of the data accross various gamma or margin(c) values we can do the following:**\n",
    "\n",
    "    print(prediction)\n",
    "    print('druggy' if prediction == 1 else 'clean')\n",
    "    # gamma = list(np.linspace(2.25, 3, 5))\n",
    "    margins = list(np.linspace(0.82, 3, 10))\n",
    "    scores = []\n",
    "    for c in margins:\n",
    "        model = SVC(kernel='rbf', C=c, gamma=g)\n",
    "        model.fit(train_data, train_labels)\n",
    "        score = model.score(test_data, test_labels)\n",
    "        print(score)\n",
    "        scores.append(score)\n",
    "\n",
    "    plt.plot(margins, scores)\n",
    "    plt.ylim(0.6, 1)\n",
    "    plt.show()"
   ]
  },
  {
   "cell_type": "markdown",
   "metadata": {},
   "source": [
    "# Naive Bayes:\n",
    "This classifier works best with textual data so we need to completely start over fresh and get new data for \n",
    "it to work with.\n",
    "\n",
    "With this classifier I intend to use the essays to determine whether or not a person does drugs or not\n",
    "1. Create a new column to contain all the essays concatenated.\n",
    "2. Augment the data with natural language processing (lowercase everything and remove punctuation).\n",
    "3. Run it through a counter vectorizer to format the data and get counts for how the essays are structured for each individual in the dataset.\n",
    "\n",
    "Then I can use these counts to train the model!\n",
    "\n",
    "**Accuracies:** (Bigram worked the best, however monogram was the fastest and as we went up to trigram it got exponentially \n",
    "longer).\n",
    "* bigram and trigam: ~82.21%\n",
    "* only bigram: ~82.33%\n",
    "* monogram and bigram: ~82.42%\n",
    "* monogram: ~80.98%\n",
    "\n",
    "**Alternate drug_i mapping accuracies:**\n",
    "* sometimes=1 and often=2: ~82.26%\n",
    "* sometimes=1 and often=1: ~82.33%\n",
    "\n",
    "**Best settings:**\n",
    "* drugs{never=0, sometimes=1, often=2}\n",
    "\n",
    "\n",
    "When using this same technique but with sex it was poor with only 77.07% accuracy."
   ]
  },
  {
   "cell_type": "code",
   "execution_count": 35,
   "metadata": {},
   "outputs": [
    {
     "name": "stdout",
     "output_type": "stream",
     "text": [
      "False\n",
      "0    34830\n",
      "1     7665\n",
      "Name: drugs_i, dtype: int64\n"
     ]
    }
   ],
   "source": [
    "# creating label data:\n",
    "df.dropna(subset=['drugs'], inplace=True)\n",
    "df['drugs_i'] = df.drugs.map({'never': 0, 'sometimes': 1, 'often': 1})\n",
    "\n",
    "print(df.drugs.isna().any())\n",
    "print(df.drugs_i.value_counts())"
   ]
  },
  {
   "cell_type": "code",
   "execution_count": 36,
   "metadata": {},
   "outputs": [],
   "source": [
    "# Feature data:\n",
    "list_essays = ['essay' + str(i) for i in range(10)]\n",
    "\n",
    "# Removing nan and joining all essays into one column\n",
    "all_essays = df[list_essays].replace(np.nan, '', regex=True)\n",
    "df['essays'] = all_essays[list_essays].apply(lambda x: ' '.join(x), axis=1)\n",
    "\n",
    "train_data, test_data, train_labels, test_labels = train_test_split(df['essays'], df['drugs_i'],\n",
    "                                                                    train_size=0.8, random_state=23)"
   ]
  },
  {
   "cell_type": "markdown",
   "metadata": {},
   "source": [
    "**Count Vectorizer:**"
   ]
  },
  {
   "cell_type": "code",
   "execution_count": 37,
   "metadata": {},
   "outputs": [
    {
     "name": "stderr",
     "output_type": "stream",
     "text": [
      "IOPub data rate exceeded.\n",
      "The notebook server will temporarily stop sending output\n",
      "to the client in order to avoid crashing it.\n",
      "To change this limit, set the config variable\n",
      "`--NotebookApp.iopub_data_rate_limit`.\n",
      "\n",
      "Current values:\n",
      "NotebookApp.iopub_data_rate_limit=1000000.0 (bytes/sec)\n",
      "NotebookApp.rate_limit_window=3.0 (secs)\n",
      "\n"
     ]
    }
   ],
   "source": [
    "count = CountVectorizer(lowercase=True, ngram_range=(1, 2))     # token_pattern by default ignores punctuation\n",
    "count.fit(df['essays'])\n",
    "print(type(list(test_data)))\n",
    "print(list(test_data))\n",
    "\n",
    "test_data_count = count.transform(list(test_data))\n",
    "train_data_count = count.transform(list(train_data))"
   ]
  },
  {
   "cell_type": "markdown",
   "metadata": {},
   "source": [
    "**Creating the model & testing:**"
   ]
  },
  {
   "cell_type": "code",
   "execution_count": 38,
   "metadata": {},
   "outputs": [
    {
     "name": "stdout",
     "output_type": "stream",
     "text": [
      "0.8236263089775268\n",
      "[0 1]\n"
     ]
    }
   ],
   "source": [
    "model = MultinomialNB()\n",
    "model.fit(train_data_count, train_labels)\n",
    "print(model.score(test_data_count, test_labels))\n",
    "print(model.classes_)"
   ]
  }
 ],
 "metadata": {
  "kernelspec": {
   "display_name": "Python 3",
   "language": "python",
   "name": "python3"
  },
  "language_info": {
   "codemirror_mode": {
    "name": "ipython",
    "version": 3
   },
   "file_extension": ".py",
   "mimetype": "text/x-python",
   "name": "python",
   "nbconvert_exporter": "python",
   "pygments_lexer": "ipython3",
   "version": "3.7.0"
  }
 },
 "nbformat": 4,
 "nbformat_minor": 4
}
